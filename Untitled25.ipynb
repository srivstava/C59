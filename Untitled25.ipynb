{
  "nbformat": 4,
  "nbformat_minor": 0,
  "metadata": {
    "colab": {
      "name": "Untitled25.ipynb",
      "provenance": [],
      "authorship_tag": "ABX9TyOdko0FdacscJgXZvrwnFbW",
      "include_colab_link": true
    },
    "kernelspec": {
      "name": "python3",
      "display_name": "Python 3"
    },
    "language_info": {
      "name": "python"
    }
  },
  "cells": [
    {
      "cell_type": "markdown",
      "metadata": {
        "id": "view-in-github",
        "colab_type": "text"
      },
      "source": [
        "<a href=\"https://colab.research.google.com/github/srivstava/C59/blob/main/Untitled25.ipynb\" target=\"_parent\"><img src=\"https://colab.research.google.com/assets/colab-badge.svg\" alt=\"Open In Colab\"/></a>"
      ]
    },
    {
      "cell_type": "code",
      "execution_count": null,
      "metadata": {
        "id": "nvR4FtLmMkK9"
      },
      "outputs": [],
      "source": [
        "from termcolor import colored\n",
        "print(colored('Hi!', 'green', attrs=['bold']))\n",
        "\n",
        "mask= input(\"Enter whether you use a surgical mask or an N95 mask: \")\n",
        "\n",
        "if (mask==\"surgical mask\"):\n",
        "  print(\"\\n\")\n",
        "  print(\"The amount of polypropylene in surgical masks is 4.5 g.\")\n",
        "  print(\"Most of these face mask wastes contains either polypropylene and/or polyethylene which add plastic or microplastic pollution to the environment.\")\n",
        "if (mask==\"Surgical mask\"):\n",
        "  print(\"\\n\")\n",
        "  print(\"The amount of polypropylene in surgical masks is 4.5 g.\")\n",
        "  print(\"Most of these face mask wastes contains either polypropylene and/or polyethylene which add plastic or microplastic pollution to the environment.\")\n",
        "if (mask==\"Surgical Mask\"):\n",
        "  print(\"\\n\")\n",
        "  print(\"The amount of polypropylene in surgical masks is 4.5 g.\")\n",
        "  print(\"Most of these face mask wastes contains either polypropylene and/or polyethylene which add plastic or microplastic pollution to the environment.\")\n",
        "if (mask==\"N95 mask\"):\n",
        "  print(\"\\n\")\n",
        "  print(\"The amount of polypropylene in N95 masks is 9.0 g.\")\n",
        "  print(\"Most of these face mask wastes contains either polypropylene and/or polyethylene which add plastic or microplastic pollution to the environment.\")\n",
        "if (mask==\"N95 Mask\"):\n",
        "  print(\"\\n\")\n",
        "  print(\"The amount of polypropylene in N95 masks is 9.0 g.\")\n",
        "  print(\"Most of these face mask wastes contains either polypropylene and/or polyethylene which add plastic or microplastic pollution to the environment.\")\n",
        "if (mask==\"n95 mask\"):\n",
        "  print(\"\\n\")\n",
        "  print(\"The amount of polypropylene in N95 masks is 9.0 g.\")\n",
        "  print(\"Most of these face mask wastes contains either polypropylene and/or polyethylene which add plastic or microplastic pollution to the environment.\")\n",
        "if (mask==\"n95 Mask\"):\n",
        "  print(\"\\n\")\n",
        "  print(\"The amount of polypropylene in N95 masks is 9.0 g.\")\n",
        "print(\"\\n\")\n",
        "print(\"In India these are the minimum and maximum amounts of polypropylene: \")\n",
        "import pandas as pd\n",
        "import matplotlib.pyplot as plt\n",
        "mydataset={\n",
        "    \"amount of polypropylene\": ['2450','12258']\n",
        "}\n",
        "data2 = pd.DataFrame(mydataset,index=[\"min\",\"max\"])\n",
        "print(data2)\n",
        "\n",
        "from termcolor import colored\n",
        "print(colored(\"\\n How can face masks be disposed in an eco-friendly manner?\", 'red', attrs=['bold']))\n",
        "print(\"• Cut the loops of your mask before disposing, so that the animals don't get entangled in it\")\n",
        "print(\"• Don't recycle your mask as it will contaminate other items\")\n",
        "print(\"• If you find any subsidiaries of P-Block 2.0 or Shayyas in India, you can get your mask\")\n",
        "print(\"converted into construction bricks and/or matteresses\")\n",
        "\n",
        "print(\"\\n More on: https://www.thebetterindia.com/235645/face-mask-recycle-ppe-masks-waste-bricks-gujarat-low-cost-innovation-covid-19-eco-friendly-ros174/\")\n"
      ]
    },
    {
      "cell_type": "code",
      "source": [
        ""
      ],
      "metadata": {
        "id": "LOuxnt7yPQ-j"
      },
      "execution_count": null,
      "outputs": []
    }
  ]
}